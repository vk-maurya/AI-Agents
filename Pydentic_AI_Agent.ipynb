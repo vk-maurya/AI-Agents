{
  "nbformat": 4,
  "nbformat_minor": 0,
  "metadata": {
    "colab": {
      "provenance": []
    },
    "kernelspec": {
      "name": "python3",
      "display_name": "Python 3"
    },
    "language_info": {
      "name": "python"
    }
  },
  "cells": [
    {
      "cell_type": "code",
      "execution_count": 1,
      "metadata": {
        "id": "Ow2bDsy05mp_"
      },
      "outputs": [],
      "source": [
        "%pip install 'pydantic-ai'"
      ]
    },
    {
      "cell_type": "code",
      "source": [
        "from google.colab import userdata\n",
        "API_KEY = userdata.get('GOOGLE_API_KEY')"
      ],
      "metadata": {
        "id": "AJDLmC-k6rWI"
      },
      "execution_count": 13,
      "outputs": []
    },
    {
      "cell_type": "code",
      "source": [
        "\n",
        "import nest_asyncio\n",
        "nest_asyncio.apply()\n",
        "\n",
        "\n",
        "import warnings\n",
        "warnings.filterwarnings(\"ignore\")"
      ],
      "metadata": {
        "id": "JOb3JOaI65m_"
      },
      "execution_count": 14,
      "outputs": []
    },
    {
      "cell_type": "markdown",
      "source": [
        "# Pydentic AI Agent Example"
      ],
      "metadata": {
        "id": "j6hohiI0Z7px"
      }
    },
    {
      "cell_type": "code",
      "source": [
        "import asyncio\n",
        "from pydantic_ai.models.gemini import GeminiModel\n",
        "\n",
        "\n",
        "from dataclasses import dataclass\n",
        "\n",
        "from pydantic import BaseModel, Field\n",
        "\n",
        "from pydantic_ai import Agent, RunContext\n",
        "\n",
        "\n",
        "class DatabaseConn:\n",
        "    \"\"\"This is a fake database for example purposes.\n",
        "\n",
        "    In reality, you'd be connecting to an external database\n",
        "    (e.g. PostgreSQL) to get information about customers.\n",
        "    \"\"\"\n",
        "\n",
        "    @classmethod\n",
        "    async def customer_name(cls, *, id: int) -> str | None:\n",
        "        if id == 123:\n",
        "            return 'John'\n",
        "\n",
        "    @classmethod\n",
        "    async def customer_balance(cls, *, id: int, include_pending: bool) -> float:\n",
        "        if id == 123:\n",
        "            return 123.45\n",
        "        else:\n",
        "            raise ValueError('Customer not found')\n",
        "\n",
        "\n",
        "@dataclass\n",
        "class SupportDependencies:\n",
        "    customer_id: int\n",
        "    db: DatabaseConn\n",
        "\n",
        "\n",
        "class SupportResult(BaseModel):\n",
        "    support_advice: str = Field(description='Advice returned to the customer')\n",
        "    block_card: bool = Field(description='Whether to block their')\n",
        "    risk: int = Field(description='Risk level of query', ge=0, le=10)\n",
        "\n",
        "\n",
        "support_agent = Agent(\n",
        "    model = GeminiModel('gemini-1.5-flash',api_key=API_KEY),\n",
        "    deps_type=SupportDependencies,\n",
        "    result_type=SupportResult,\n",
        "    system_prompt=(\n",
        "        'You are a support agent in our bank, give the '\n",
        "        'customer support and judge the risk level of their query. '\n",
        "        \"Reply using the customer's name.\"\n",
        "    ),\n",
        ")\n",
        "\n",
        "\n",
        "@support_agent.system_prompt\n",
        "async def add_customer_name(ctx: RunContext[SupportDependencies]) -> str:\n",
        "    customer_name = await ctx.deps.db.customer_name(id=ctx.deps.customer_id)\n",
        "    return f\"The customer's name is {customer_name!r}\"\n",
        "\n",
        "\n",
        "@support_agent.tool\n",
        "async def customer_balance(\n",
        "    ctx: RunContext[SupportDependencies], include_pending: bool\n",
        ") -> str:\n",
        "    \"\"\"Returns the customer's current account balance.\"\"\"\n",
        "    balance = await ctx.deps.db.customer_balance(\n",
        "        id=ctx.deps.customer_id,\n",
        "        include_pending=include_pending,\n",
        "    )\n",
        "    return f'${balance:.2f}'\n",
        "\n",
        "\n",
        "if __name__ == '__main__':\n",
        "    deps = SupportDependencies(customer_id=123, db=DatabaseConn())\n",
        "        # Get the current event loop\n",
        "    loop = asyncio.get_event_loop()\n",
        "    result = support_agent.run_sync('What is my balance?', deps=deps)\n",
        "    print(result.data)\n",
        "    \"\"\"\n",
        "    support_advice='Hello John, your current account balance, including pending transactions, is $123.45.' block_card=False risk=1\n",
        "    \"\"\"\n",
        "\n",
        "    result = support_agent.run_sync('I just lost my card!', deps=deps)\n",
        "    print(result.data)\n",
        "    \"\"\"\n",
        "    support_advice=\"I'm sorry to hear that, John. We are temporarily blocking your card to prevent unauthorized transactions.\" block_card=True risk=8\n",
        "    \"\"\""
      ],
      "metadata": {
        "colab": {
          "base_uri": "https://localhost:8080/"
        },
        "id": "yUg4jJwh57HY",
        "outputId": "e54bf088-4266-4bb8-db5d-d306e2349cab"
      },
      "execution_count": 7,
      "outputs": [
        {
          "output_type": "stream",
          "name": "stdout",
          "text": [
            "support_advice='Your balance is $123.45.' block_card=False risk=1\n",
            "support_advice=\"John, I'm sorry to hear that you lost your card. I have blocked your card to prevent any unauthorized transactions. Please visit your nearest branch or contact us to request a new card.\" block_card=True risk=2\n"
          ]
        }
      ]
    },
    {
      "cell_type": "markdown",
      "source": [
        "## Pydentic AI Agent with Conversations"
      ],
      "metadata": {
        "id": "bllUVOtYV9Eu"
      }
    },
    {
      "cell_type": "code",
      "source": [
        "import asyncio\n",
        "from pydantic_ai.models.gemini import GeminiModel\n",
        "from dataclasses import dataclass\n",
        "from pydantic import BaseModel, Field\n",
        "from pydantic_ai import Agent, RunContext\n",
        "\n",
        "\n",
        "class DatabaseConn:\n",
        "    \"\"\"This is a fake database for example purposes.\n",
        "\n",
        "    In reality, you'd be connecting to an external database\n",
        "    (e.g. PostgreSQL) to get information about customers.\n",
        "    \"\"\"\n",
        "\n",
        "    @classmethod\n",
        "    async def customer_name(cls, *, id: int) -> str | None:\n",
        "        if id == 123:\n",
        "            return 'John'\n",
        "\n",
        "    @classmethod\n",
        "    async def customer_balance(cls, *, id: int, include_pending: bool) -> float:\n",
        "        if id == 123:\n",
        "            return 123.45\n",
        "        else:\n",
        "            raise ValueError('Customer not found')\n",
        "\n",
        "\n",
        "@dataclass\n",
        "class SupportDependencies:\n",
        "    customer_id: int\n",
        "    db: DatabaseConn\n",
        "\n",
        "\n",
        "class SupportResult(BaseModel):\n",
        "    support_advice: str = Field(description='Advice returned to the customer')\n",
        "    block_card: bool = Field(description='Whether to block their card')\n",
        "    risk: int = Field(description='Risk level of query', ge=0, le=10)\n",
        "\n",
        "\n",
        "support_agent = Agent(\n",
        "    model=GeminiModel('gemini-1.5-flash', api_key=API_KEY),\n",
        "    deps_type=SupportDependencies,\n",
        "    result_type=SupportResult,\n",
        "    system_prompt=(\n",
        "        'You are a support agent in our bank, give the '\n",
        "        'customer support and judge the risk level of their query. '\n",
        "        \"Reply using the customer's name. Use the conversation history to provide better context.\"\n",
        "    ),\n",
        ")\n",
        "\n",
        "\n",
        "@support_agent.system_prompt\n",
        "async def add_customer_name(ctx: RunContext[SupportDependencies]) -> str:\n",
        "    customer_name = await ctx.deps.db.customer_name(id=ctx.deps.customer_id)\n",
        "    return f\"The customer's name is {customer_name!r}\"\n",
        "\n",
        "\n",
        "@support_agent.tool\n",
        "async def customer_balance(\n",
        "    ctx: RunContext[SupportDependencies], include_pending: bool\n",
        ") -> str:\n",
        "    \"\"\"Returns the customer's current account balance.\"\"\"\n",
        "    balance = await ctx.deps.db.customer_balance(\n",
        "        id=ctx.deps.customer_id,\n",
        "        include_pending=include_pending,\n",
        "    )\n",
        "    return f'${balance:.2f}'\n",
        "\n",
        "\n",
        "@support_agent.tool\n",
        "async def new_card_request(\n",
        "    ctx: RunContext[SupportDependencies], include_pending: bool\n",
        ") -> str:\n",
        "    \"\"\"Returns reture new card request.\"\"\"\n",
        "    request_no = \"abc123\"\n",
        "    return f'request no {request_no}'\n",
        "\n",
        "if __name__ == '__main__':\n",
        "    deps = SupportDependencies(customer_id=123, db=DatabaseConn())\n",
        "    conversation_history = []  # To store the conversation history\n",
        "\n",
        "    print(\"Welcome to the Bank Support Chatbot!\")\n",
        "    print(\"Type 'exit' to end the chat.\\n\")\n",
        "\n",
        "    while True:\n",
        "        user_input = input(\"You: \")\n",
        "        if user_input.lower() == 'exit':\n",
        "            print(\"Goodbye! Have a great day!\")\n",
        "            break\n",
        "\n",
        "        # Add user input to the conversation history\n",
        "        conversation_history.append(f\"User: {user_input}\")\n",
        "\n",
        "        # Combine conversation history into a single input string\n",
        "        combined_input = \"\\n\".join(conversation_history)\n",
        "\n",
        "        # Run the agent synchronously with the combined input\n",
        "        try:\n",
        "            result = support_agent.run_sync(combined_input, deps=deps)\n",
        "\n",
        "            # Add the agent's response to the conversation history\n",
        "            conversation_history.append(f\"Agent: {result.data.support_advice}\")\n",
        "\n",
        "            print(f\"Support Agent: {result.data.support_advice}\")\n",
        "            print(f\"is card Blocked : {result.data.block_card}  | Risk Level : {result.data.risk}\")\n",
        "        except Exception as e:\n",
        "            print(f\"Support Agent: Sorry, I couldn't process your request. Error: {e}\\n\")"
      ],
      "metadata": {
        "colab": {
          "base_uri": "https://localhost:8080/"
        },
        "id": "kQg-9L4y9IZK",
        "outputId": "6e87a563-d302-4c72-8a84-7ab20057b6f7"
      },
      "execution_count": 19,
      "outputs": [
        {
          "output_type": "stream",
          "name": "stdout",
          "text": [
            "Welcome to the Bank Support Chatbot!\n",
            "Type 'exit' to end the chat.\n",
            "\n",
            "You: Hello\n",
            "Support Agent: Hello John, how can I help you today?\n",
            "is card Blocked : False  | Risk Level : 0\n",
            "You: Can you block my card\n",
            "Support Agent: Your card has been blocked. Please contact us to request a new card.\n",
            "is card Blocked : True  | Risk Level : 5\n",
            "You: I want to new card\n",
            "Support Agent: Your new card request has been received. You will receive your new card in 5-7 business days.  \n",
            "is card Blocked : False  | Risk Level : 1\n",
            "You: what is request id\n",
            "Support Agent: Your new card request (abc123) has been received. You will receive your new card in 5-7 business days.\n",
            "is card Blocked : False  | Risk Level : 1\n",
            "You: exit\n",
            "Goodbye! Have a great day!\n"
          ]
        }
      ]
    },
    {
      "cell_type": "code",
      "source": [],
      "metadata": {
        "id": "hMLkhaxikJjK"
      },
      "execution_count": 18,
      "outputs": []
    }
  ]
}